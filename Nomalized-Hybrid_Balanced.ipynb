{
 "cells": [
  {
   "cell_type": "code",
   "execution_count": null,
   "id": "623637ad-27b9-4755-9a85-d7aa903185df",
   "metadata": {},
   "outputs": [],
   "source": [
    "import json\n",
    "import re\n",
    "from datetime import datetime\n",
    "\n",
    "class CitationLogger:\n",
    "    def __init__(self, author, title, repo_url, year=None):\n",
    "        self.author = author\n",
    "        self.title = title\n",
    "        self.repo_url = repo_url\n",
    "        self.year = year or datetime.now().year\n",
    "        self.bib_key = self._generate_bib_key()\n",
    "\n",
    "    def _generate_bib_key(self):\n",
    "        first = re.sub(r'[^a-zA-Z]', '', self.author.split()[0].lower())\n",
    "        title_token = re.sub(r'[^a-zA-Z]', '', self.title.split()[0].lower())\n",
    "        return f\"{first}{self.year}{title_token}\"\n",
    "\n",
    "    def markdown(self):\n",
    "        return f\"\"\"### Citation  \n",
    "{self.author} ({self.year}). *{self.title}*. GitHub Repository: [{self.repo_url.split('/')[-1]}]({self.repo_url})\n",
    "\"\"\"\n",
    "\n",
    "    def bibtex(self):\n",
    "        return f\"\"\"@misc{{{self.bib_key},\n",
    "  author       = {{{self.author}}},\n",
    "  title        = {{{self.title}}},\n",
    "  year         = {{{self.year}}},\n",
    "  howpublished = {{\\\\url{{{self.repo_url}}}}},\n",
    "  note         = {{GitHub Repository}}\n",
    "}}\"\"\"\n",
    "\n",
    "    def json(self):\n",
    "        return {\n",
    "            \"author\": self.author,\n",
    "            \"year\": self.year,\n",
    "            \"title\": self.title,\n",
    "            \"repository\": \"GitHub\",\n",
    "            \"url\": self.repo_url\n",
    "        }\n",
    "\n",
    "    def display(self):\n",
    "        print(\"📄 Markdown Citation:\\n\")\n",
    "        print(self.markdown())\n",
    "        print(\"\\n📚 BibTeX Citation:\\n\")\n",
    "        print(self.bibtex())\n",
    "        print(\"\\n🧾 JSON Citation:\\n\")\n",
    "        print(json.dumps(self.json(), indent=4))\n",
    "\n",
    "# 🔧 Example usage\n",
    "citation = CitationLogger(\n",
    "    author=\"Nouri Baher\",\n",
    "    title=\"Hybrid Oversampling for Intrusion Detection: SMOTE + KGSMOTE\",\n",
    "    repo_url=\"https://github.com/Nouribaher/ids-hybrid-oversampling-smote-kgsmote\",\n",
    "    year=2025\n",
    ")\n",
    "\n",
    "citation.display()"
   ]
  },
  {
   "cell_type": "code",
   "execution_count": null,
   "id": "ceda2817-20a8-49d5-bfe9-82458bf7743a",
   "metadata": {},
   "outputs": [],
   "source": [
    "!pip install imbalanced-learn"
   ]
  },
  {
   "cell_type": "code",
   "execution_count": null,
   "id": "40dc6c86-9680-4697-91f3-e9d849368327",
   "metadata": {},
   "outputs": [],
   "source": [
    "import pandas as pd, numpy as np\n",
    "from sklearn.preprocessing import MinMaxScaler, LabelEncoder\n",
    "\n",
    "# Load dataset\n",
    "df = pd.read_excel('KDDTest_Normalized.xlsx')\n",
    "# Encode labels\n",
    "le = LabelEncoder()\n",
    "df['label'] = le.fit_transform(df['label'])\n",
    "df['label_name'] = le.inverse_transform(df['label'])\n",
    "\n",
    "# Normalize features\n",
    "X_raw = df.drop(columns=['label', 'label_name'])\n",
    "scaler = MinMaxScaler()\n",
    "X_scaled = scaler.fit_transform(X_raw)\n",
    "y = df['label']\n"
   ]
  },
  {
   "cell_type": "code",
   "execution_count": null,
   "id": "95db0511-cb3d-41e2-b7c3-f783268f725a",
   "metadata": {},
   "outputs": [],
   "source": [
    "#ImBalanced dataset\n",
    "df.label.value_counts()"
   ]
  },
  {
   "cell_type": "code",
   "execution_count": null,
   "id": "88af3e1e-e89e-4d9e-8372-5308b2ca3b9c",
   "metadata": {},
   "outputs": [],
   "source": [
    "from collections import Counter\n",
    "\n",
    "# Keep only classes with at least 3 samples\n",
    "counts = Counter(y)\n",
    "valid_classes = [cls for cls, count in counts.items() if count >= 3]\n",
    "mask = df['label'].isin(valid_classes)\n",
    "\n",
    "X_filtered = X_scaled[mask]\n",
    "y_filtered = y[mask]"
   ]
  },
  {
   "cell_type": "code",
   "execution_count": null,
   "id": "0143e73c-99e7-4e21-8c22-64b934ada334",
   "metadata": {},
   "outputs": [],
   "source": [
    "from imblearn.over_sampling import SMOTE\n",
    "# Balanced dataset using SMOTE (safe config)\n",
    "smote = SMOTE(k_neighbors=2)\n",
    "X_smote, y_smote = smote.fit_resample(X_filtered, y_filtered)\n",
    "\n",
    "df_smote = pd.DataFrame(X_smote, columns=X_raw.columns)\n",
    "df_smote['label'] = y_smote\n",
    "df_smote['label_name'] = le.inverse_transform(y_smote)\n",
    "\n",
    "df_smote.to_excel('SMOTE_Balanced.xlsx', index=False)"
   ]
  },
  {
   "cell_type": "code",
   "execution_count": null,
   "id": "c84cd8da-859c-4c9a-84bb-6f2870cd9403",
   "metadata": {},
   "outputs": [],
   "source": [
    "# Balanced dataset using SMOTE (safe config)\n",
    "df_smote.label.value_counts()"
   ]
  },
  {
   "cell_type": "code",
   "execution_count": null,
   "id": "60810ad6-34e6-4e2f-9b38-b6e57116454c",
   "metadata": {},
   "outputs": [],
   "source": [
    "from sklearn.neighbors import KernelDensity\n",
    "\n",
    "# Choose one minority class to simulate KGSMOTE\n",
    "minority_class_id = valid_classes[-1]  # pick last valid class\n",
    "minority_df = df[df['label'] == minority_class_id]\n",
    "X_minority = scaler.transform(minority_df.drop(columns=['label', 'label_name']))\n",
    "\n",
    "# Fit KDE and sample synthetic points\n",
    "kde = KernelDensity(kernel='gaussian', bandwidth=0.2).fit(X_minority)\n",
    "synthetic = kde.sample(n_samples=500)\n",
    "\n",
    "synthetic_df = pd.DataFrame(synthetic, columns=X_raw.columns)\n",
    "synthetic_df['label'] = minority_class_id\n",
    "synthetic_df['label_name'] = le.inverse_transform([minority_class_id])[0]\n",
    "\n",
    "# Combine with original data\n",
    "df_kgsmote = pd.concat([df, synthetic_df], ignore_index=True)\n",
    "df_kgsmote.to_excel('KGSMOTE_Balanced.xlsx', index=False)"
   ]
  },
  {
   "cell_type": "code",
   "execution_count": null,
   "id": "bcacaea0-327a-41ec-b892-bd0d1bb23d21",
   "metadata": {},
   "outputs": [],
   "source": [
    "def balance(X, y, method='smote', minority_class_id=None, n_samples=500, k_neighbors=2):\n",
    "    from imblearn.over_sampling import SMOTE\n",
    "    from sklearn.neighbors import KernelDensity\n",
    "    import pandas as pd\n",
    "    import numpy as np\n",
    "    from collections import Counter\n",
    "\n",
    "    # Filter out classes with too few samples for SMOTE\n",
    "    def filter_valid_classes(X, y, min_samples):\n",
    "        counts = Counter(y)\n",
    "        valid_classes = [cls for cls, count in counts.items() if count >= min_samples]\n",
    "        mask = np.isin(y, valid_classes)\n",
    "        return X[mask], y[mask]\n",
    "\n",
    "    if method == 'smote':\n",
    "        # Ensure SMOTE won't fail due to rare classes\n",
    "        X_safe, y_safe = filter_valid_classes(X, y, min_samples=k_neighbors + 1)\n",
    "        smote = SMOTE(k_neighbors=k_neighbors)\n",
    "        X_res, y_res = smote.fit_resample(X_safe, y_safe)\n",
    "        return X_res, y_res\n",
    "\n",
    "    elif method == 'kgsmote':\n",
    "        if minority_class_id is None:\n",
    "            raise ValueError(\"You must specify minority_class_id for KGSMOTE.\")\n",
    "        mask = y == minority_class_id\n",
    "        X_minority = X[mask]\n",
    "        kde = KernelDensity(kernel='gaussian', bandwidth=0.2).fit(X_minority)\n",
    "        synthetic = kde.sample(n_samples=n_samples)\n",
    "        X_res = pd.concat([pd.DataFrame(X), pd.DataFrame(synthetic)], ignore_index=True)\n",
    "        y_res = pd.concat([pd.Series(y), pd.Series([minority_class_id]*n_samples)], ignore_index=True)\n",
    "        return X_res.values, y_res.values\n",
    "\n",
    "    elif method == 'hybrid':\n",
    "        # Filter before SMOTE\n",
    "        X_safe, y_safe = filter_valid_classes(X, y, min_samples=k_neighbors + 1)\n",
    "        smote = SMOTE(k_neighbors=k_neighbors)\n",
    "        X_smote, y_smote = smote.fit_resample(X_safe, y_safe)\n",
    "\n",
    "        # Apply KGSMOTE to refine one minority class\n",
    "        if minority_class_id is None:\n",
    "            raise ValueError(\"You must specify minority_class_id for hybrid.\")\n",
    "        mask = y_smote == minority_class_id\n",
    "        X_minority = X_smote[mask]\n",
    "        kde = KernelDensity(kernel='gaussian', bandwidth=0.2).fit(X_minority)\n",
    "        synthetic = kde.sample(n_samples=n_samples)\n",
    "        X_final = pd.concat([pd.DataFrame(X_smote), pd.DataFrame(synthetic)], ignore_index=True)\n",
    "        y_final = pd.concat([pd.Series(y_smote), pd.Series([minority_class_id]*n_samples)], ignore_index=True)\n",
    "        return X_final.values, y_final.values\n",
    "\n",
    "    else:\n",
    "        raise ValueError(\"Method must be 'smote', 'kgsmote', or 'hybrid'.\")"
   ]
  },
  {
   "cell_type": "code",
   "execution_count": null,
   "id": "6834eec9-6dbe-4fa7-b6f1-1458355422ba",
   "metadata": {},
   "outputs": [],
   "source": [
    "X_bal, y_bal = balance(X_scaled, y, method='smote')"
   ]
  },
  {
   "cell_type": "code",
   "execution_count": null,
   "id": "96b6aba1-6f48-4178-abf7-5aa6863e3c1b",
   "metadata": {},
   "outputs": [],
   "source": [
    "df_smote = pd.DataFrame(X_bal, columns=X_raw.columns)\n",
    "df_smote['label'] = y_bal\n",
    "df_smote['label_name'] = le.inverse_transform(y_bal)"
   ]
  },
  {
   "cell_type": "code",
   "execution_count": null,
   "id": "dd1f8f96-acb1-4ab0-ab36-4cecf4997ea1",
   "metadata": {},
   "outputs": [],
   "source": [
    "df_smote.to_excel('results-SMOTE_Balanced.xlsx', index=False)"
   ]
  },
  {
   "cell_type": "code",
   "execution_count": null,
   "id": "c82e99d4-64ad-4e00-b81d-1538f709fddf",
   "metadata": {},
   "outputs": [],
   "source": [
    "# Balanced dataset using SMOTE (safe config)\n",
    "df_smote.label.value_counts()"
   ]
  },
  {
   "cell_type": "code",
   "execution_count": null,
   "id": "3c9ec9c9-88fb-4b01-88e7-e693348779b1",
   "metadata": {},
   "outputs": [],
   "source": [
    "X_kg, y_kg = balance(X_scaled, y, method='kgsmote', minority_class_id=5)\n",
    "df_kgsmote = pd.DataFrame(X_kg, columns=X_raw.columns)\n",
    "df_kgsmote['label'] = y_kg\n",
    "df_kgsmote['label_name'] = le.inverse_transform(y_kg)\n",
    "df_kgsmote.to_excel('results-KGSMOTE_Balanced.xlsx', index=False)"
   ]
  },
  {
   "cell_type": "code",
   "execution_count": null,
   "id": "a947aa10-5d73-447f-9e55-c0f8952bf8cf",
   "metadata": {},
   "outputs": [],
   "source": [
    "X_hybrid, y_hybrid = balance(X_scaled, y, method='hybrid', minority_class_id=5)\n",
    "df_hybrid = pd.DataFrame(X_hybrid, columns=X_raw.columns)\n",
    "df_hybrid['label'] = y_hybrid\n",
    "df_hybrid['label_name'] = le.inverse_transform(y_hybrid)\n",
    "df_hybrid.to_excel('results-Hybrid_Balanced.xlsx', index=False)"
   ]
  },
  {
   "cell_type": "code",
   "execution_count": null,
   "id": "4c8a2079-445e-4b10-aa97-a446f164bafd",
   "metadata": {},
   "outputs": [],
   "source": []
  }
 ],
 "metadata": {
  "kernelspec": {
   "display_name": "Python 3 (ipykernel)",
   "language": "python",
   "name": "python3"
  },
  "language_info": {
   "codemirror_mode": {
    "name": "ipython",
    "version": 3
   },
   "file_extension": ".py",
   "mimetype": "text/x-python",
   "name": "python",
   "nbconvert_exporter": "python",
   "pygments_lexer": "ipython3",
   "version": "3.13.7"
  }
 },
 "nbformat": 4,
 "nbformat_minor": 5
}

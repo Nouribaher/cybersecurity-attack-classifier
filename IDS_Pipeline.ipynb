# Intrusion Detection System (IDS) with TensorFlow TensorFlow version: 2.20.0

This notebook implements a modular IDS pipeline inspired by the KGMS-IDS framework (Electronics 2023). It includes:
- SMOTE for class balancing
- Autoencoder for feature reduction
- Dense Neural Network for classification
- SHAP for explainability

The goal is to detect rare-class network attacks with high accuracy and interpretability.

import tensorflow as tf
print("TensorFlow version:", tf.__version__)
